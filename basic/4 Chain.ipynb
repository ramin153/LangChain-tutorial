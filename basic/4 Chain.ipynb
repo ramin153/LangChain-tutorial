{
  "nbformat": 4,
  "nbformat_minor": 0,
  "metadata": {
    "colab": {
      "provenance": []
    },
    "kernelspec": {
      "name": "python3",
      "display_name": "Python 3"
    },
    "language_info": {
      "name": "python"
    }
  },
  "cells": [
    {
      "cell_type": "markdown",
      "source": [
        "# Chain\n",
        "In the world of artificial intelligence, large language models (LLMs) have emerged as powerful tools for generating text, translating languages, writing creative content, and answering questions in an informative way. However, when it comes to complex tasks that require multiple steps, managing the flow of data and ensuring seamless integration between different components can become challenging. This is where chains in LangChain come into play.\n",
        "\n",
        "Chains provide a structured and organized approach for connecting different components, whether they are LLMs, validation modules, parsers, or other tools, to create a pipeline that efficiently processes data and handles complex tasks. By defining a chain, you essentially establish a sequence in which each component is executed, ensuring that the output of one component seamlessly flows into the next\n",
        "\n",
        "With chains, you can harness the power of multiple LLMs and other components to tackle complex tasks efficiently and effectively. Whether you're developing chatbots, generating creative content, or performing advanced data analysis, chains provide a powerful tool for managing the flow of data and ensuring seamless integration between different components.\n",
        "\n",
        "* [langchain website](https://python.langchain.com/docs/modules/chains/)\n",
        "* [why using LCEL](https://python.langchain.com/docs/expression_language/why)\n",
        "* [Interface](https://python.langchain.com/docs/expression_language/interface)\n",
        "* [LLMChain api](https://api.python.langchain.com/en/latest/chains/langchain.chains.llm.LLMChain.html?highlight=llmchain#langchain.chains.llm.LLMChain)"
      ],
      "metadata": {
        "id": "1CIQR1VvTzT4"
      }
    },
    {
      "cell_type": "markdown",
      "source": [
        "## Initialization section"
      ],
      "metadata": {
        "id": "wOchZwbqUyfH"
      }
    },
    {
      "cell_type": "code",
      "execution_count": null,
      "metadata": {
        "colab": {
          "base_uri": "https://localhost:8080/"
        },
        "id": "QiQ9AwQaTya-",
        "outputId": "ff019149-b435-4bbd-9e99-1456f13c0539"
      },
      "outputs": [
        {
          "output_type": "stream",
          "name": "stdout",
          "text": [
            "Collecting langchain\n",
            "  Downloading langchain-0.0.345-py3-none-any.whl (2.0 MB)\n",
            "\u001b[?25l     \u001b[90m━━━━━━━━━━━━━━━━━━━━━━━━━━━━━━━━━━━━━━━━\u001b[0m \u001b[32m0.0/2.0 MB\u001b[0m \u001b[31m?\u001b[0m eta \u001b[36m-:--:--\u001b[0m\r\u001b[2K     \u001b[91m━━\u001b[0m\u001b[91m╸\u001b[0m\u001b[90m━━━━━━━━━━━━━━━━━━━━━━━━━━━━━━━━━━━━━\u001b[0m \u001b[32m0.1/2.0 MB\u001b[0m \u001b[31m4.3 MB/s\u001b[0m eta \u001b[36m0:00:01\u001b[0m\r\u001b[2K     \u001b[91m━━━━━━━━━━━━━━━━━━━━━━━━━━━━━━━\u001b[0m\u001b[90m╺\u001b[0m\u001b[90m━━━━━━━━\u001b[0m \u001b[32m1.5/2.0 MB\u001b[0m \u001b[31m22.6 MB/s\u001b[0m eta \u001b[36m0:00:01\u001b[0m\r\u001b[2K     \u001b[90m━━━━━━━━━━━━━━━━━━━━━━━━━━━━━━━━━━━━━━━━\u001b[0m \u001b[32m2.0/2.0 MB\u001b[0m \u001b[31m22.2 MB/s\u001b[0m eta \u001b[36m0:00:00\u001b[0m\n",
            "\u001b[?25hRequirement already satisfied: PyYAML>=5.3 in /usr/local/lib/python3.10/dist-packages (from langchain) (6.0.1)\n",
            "Requirement already satisfied: SQLAlchemy<3,>=1.4 in /usr/local/lib/python3.10/dist-packages (from langchain) (2.0.23)\n",
            "Requirement already satisfied: aiohttp<4.0.0,>=3.8.3 in /usr/local/lib/python3.10/dist-packages (from langchain) (3.9.1)\n",
            "Requirement already satisfied: anyio<4.0 in /usr/local/lib/python3.10/dist-packages (from langchain) (3.7.1)\n",
            "Requirement already satisfied: async-timeout<5.0.0,>=4.0.0 in /usr/local/lib/python3.10/dist-packages (from langchain) (4.0.3)\n",
            "Collecting dataclasses-json<0.7,>=0.5.7 (from langchain)\n",
            "  Downloading dataclasses_json-0.6.3-py3-none-any.whl (28 kB)\n",
            "Collecting jsonpatch<2.0,>=1.33 (from langchain)\n",
            "  Downloading jsonpatch-1.33-py2.py3-none-any.whl (12 kB)\n",
            "Collecting langchain-core<0.1,>=0.0.9 (from langchain)\n",
            "  Downloading langchain_core-0.0.9-py3-none-any.whl (177 kB)\n",
            "\u001b[2K     \u001b[90m━━━━━━━━━━━━━━━━━━━━━━━━━━━━━━━━━━━━━━━━\u001b[0m \u001b[32m177.8/177.8 kB\u001b[0m \u001b[31m18.2 MB/s\u001b[0m eta \u001b[36m0:00:00\u001b[0m\n",
            "\u001b[?25hCollecting langsmith<0.1.0,>=0.0.63 (from langchain)\n",
            "  Downloading langsmith-0.0.69-py3-none-any.whl (48 kB)\n",
            "\u001b[2K     \u001b[90m━━━━━━━━━━━━━━━━━━━━━━━━━━━━━━━━━━━━━━━━\u001b[0m \u001b[32m48.2/48.2 kB\u001b[0m \u001b[31m4.9 MB/s\u001b[0m eta \u001b[36m0:00:00\u001b[0m\n",
            "\u001b[?25hRequirement already satisfied: numpy<2,>=1 in /usr/local/lib/python3.10/dist-packages (from langchain) (1.23.5)\n",
            "Requirement already satisfied: pydantic<3,>=1 in /usr/local/lib/python3.10/dist-packages (from langchain) (1.10.13)\n",
            "Requirement already satisfied: requests<3,>=2 in /usr/local/lib/python3.10/dist-packages (from langchain) (2.31.0)\n",
            "Requirement already satisfied: tenacity<9.0.0,>=8.1.0 in /usr/local/lib/python3.10/dist-packages (from langchain) (8.2.3)\n",
            "Requirement already satisfied: attrs>=17.3.0 in /usr/local/lib/python3.10/dist-packages (from aiohttp<4.0.0,>=3.8.3->langchain) (23.1.0)\n",
            "Requirement already satisfied: multidict<7.0,>=4.5 in /usr/local/lib/python3.10/dist-packages (from aiohttp<4.0.0,>=3.8.3->langchain) (6.0.4)\n",
            "Requirement already satisfied: yarl<2.0,>=1.0 in /usr/local/lib/python3.10/dist-packages (from aiohttp<4.0.0,>=3.8.3->langchain) (1.9.3)\n",
            "Requirement already satisfied: frozenlist>=1.1.1 in /usr/local/lib/python3.10/dist-packages (from aiohttp<4.0.0,>=3.8.3->langchain) (1.4.0)\n",
            "Requirement already satisfied: aiosignal>=1.1.2 in /usr/local/lib/python3.10/dist-packages (from aiohttp<4.0.0,>=3.8.3->langchain) (1.3.1)\n",
            "Requirement already satisfied: idna>=2.8 in /usr/local/lib/python3.10/dist-packages (from anyio<4.0->langchain) (3.6)\n",
            "Requirement already satisfied: sniffio>=1.1 in /usr/local/lib/python3.10/dist-packages (from anyio<4.0->langchain) (1.3.0)\n",
            "Requirement already satisfied: exceptiongroup in /usr/local/lib/python3.10/dist-packages (from anyio<4.0->langchain) (1.2.0)\n",
            "Collecting marshmallow<4.0.0,>=3.18.0 (from dataclasses-json<0.7,>=0.5.7->langchain)\n",
            "  Downloading marshmallow-3.20.1-py3-none-any.whl (49 kB)\n",
            "\u001b[2K     \u001b[90m━━━━━━━━━━━━━━━━━━━━━━━━━━━━━━━━━━━━━━━━\u001b[0m \u001b[32m49.4/49.4 kB\u001b[0m \u001b[31m5.6 MB/s\u001b[0m eta \u001b[36m0:00:00\u001b[0m\n",
            "\u001b[?25hCollecting typing-inspect<1,>=0.4.0 (from dataclasses-json<0.7,>=0.5.7->langchain)\n",
            "  Downloading typing_inspect-0.9.0-py3-none-any.whl (8.8 kB)\n",
            "Collecting jsonpointer>=1.9 (from jsonpatch<2.0,>=1.33->langchain)\n",
            "  Downloading jsonpointer-2.4-py2.py3-none-any.whl (7.8 kB)\n",
            "Requirement already satisfied: typing-extensions>=4.2.0 in /usr/local/lib/python3.10/dist-packages (from pydantic<3,>=1->langchain) (4.5.0)\n",
            "Requirement already satisfied: charset-normalizer<4,>=2 in /usr/local/lib/python3.10/dist-packages (from requests<3,>=2->langchain) (3.3.2)\n",
            "Requirement already satisfied: urllib3<3,>=1.21.1 in /usr/local/lib/python3.10/dist-packages (from requests<3,>=2->langchain) (2.0.7)\n",
            "Requirement already satisfied: certifi>=2017.4.17 in /usr/local/lib/python3.10/dist-packages (from requests<3,>=2->langchain) (2023.11.17)\n",
            "Requirement already satisfied: greenlet!=0.4.17 in /usr/local/lib/python3.10/dist-packages (from SQLAlchemy<3,>=1.4->langchain) (3.0.1)\n",
            "Requirement already satisfied: packaging>=17.0 in /usr/local/lib/python3.10/dist-packages (from marshmallow<4.0.0,>=3.18.0->dataclasses-json<0.7,>=0.5.7->langchain) (23.2)\n",
            "Collecting mypy-extensions>=0.3.0 (from typing-inspect<1,>=0.4.0->dataclasses-json<0.7,>=0.5.7->langchain)\n",
            "  Downloading mypy_extensions-1.0.0-py3-none-any.whl (4.7 kB)\n",
            "Installing collected packages: mypy-extensions, marshmallow, jsonpointer, typing-inspect, langsmith, jsonpatch, langchain-core, dataclasses-json, langchain\n",
            "Successfully installed dataclasses-json-0.6.3 jsonpatch-1.33 jsonpointer-2.4 langchain-0.0.345 langchain-core-0.0.9 langsmith-0.0.69 marshmallow-3.20.1 mypy-extensions-1.0.0 typing-inspect-0.9.0\n",
            "Collecting openai==v0.28.1\n",
            "  Downloading openai-0.28.1-py3-none-any.whl (76 kB)\n",
            "\u001b[2K     \u001b[90m━━━━━━━━━━━━━━━━━━━━━━━━━━━━━━━━━━━━━━━━\u001b[0m \u001b[32m77.0/77.0 kB\u001b[0m \u001b[31m2.0 MB/s\u001b[0m eta \u001b[36m0:00:00\u001b[0m\n",
            "\u001b[?25hRequirement already satisfied: requests>=2.20 in /usr/local/lib/python3.10/dist-packages (from openai==v0.28.1) (2.31.0)\n",
            "Requirement already satisfied: tqdm in /usr/local/lib/python3.10/dist-packages (from openai==v0.28.1) (4.66.1)\n",
            "Requirement already satisfied: aiohttp in /usr/local/lib/python3.10/dist-packages (from openai==v0.28.1) (3.9.1)\n",
            "Requirement already satisfied: charset-normalizer<4,>=2 in /usr/local/lib/python3.10/dist-packages (from requests>=2.20->openai==v0.28.1) (3.3.2)\n",
            "Requirement already satisfied: idna<4,>=2.5 in /usr/local/lib/python3.10/dist-packages (from requests>=2.20->openai==v0.28.1) (3.6)\n",
            "Requirement already satisfied: urllib3<3,>=1.21.1 in /usr/local/lib/python3.10/dist-packages (from requests>=2.20->openai==v0.28.1) (2.0.7)\n",
            "Requirement already satisfied: certifi>=2017.4.17 in /usr/local/lib/python3.10/dist-packages (from requests>=2.20->openai==v0.28.1) (2023.11.17)\n",
            "Requirement already satisfied: attrs>=17.3.0 in /usr/local/lib/python3.10/dist-packages (from aiohttp->openai==v0.28.1) (23.1.0)\n",
            "Requirement already satisfied: multidict<7.0,>=4.5 in /usr/local/lib/python3.10/dist-packages (from aiohttp->openai==v0.28.1) (6.0.4)\n",
            "Requirement already satisfied: yarl<2.0,>=1.0 in /usr/local/lib/python3.10/dist-packages (from aiohttp->openai==v0.28.1) (1.9.3)\n",
            "Requirement already satisfied: frozenlist>=1.1.1 in /usr/local/lib/python3.10/dist-packages (from aiohttp->openai==v0.28.1) (1.4.0)\n",
            "Requirement already satisfied: aiosignal>=1.1.2 in /usr/local/lib/python3.10/dist-packages (from aiohttp->openai==v0.28.1) (1.3.1)\n",
            "Requirement already satisfied: async-timeout<5.0,>=4.0 in /usr/local/lib/python3.10/dist-packages (from aiohttp->openai==v0.28.1) (4.0.3)\n",
            "Installing collected packages: openai\n",
            "\u001b[31mERROR: pip's dependency resolver does not currently take into account all the packages that are installed. This behaviour is the source of the following dependency conflicts.\n",
            "llmx 0.0.15a0 requires cohere, which is not installed.\n",
            "llmx 0.0.15a0 requires tiktoken, which is not installed.\u001b[0m\u001b[31m\n",
            "\u001b[0mSuccessfully installed openai-0.28.1\n"
          ]
        }
      ],
      "source": [
        "!pip install langchain\n",
        "!pip install openai==v0.28.1"
      ]
    },
    {
      "cell_type": "markdown",
      "source": [
        "## Import section"
      ],
      "metadata": {
        "id": "eayfjIJEU5s2"
      }
    },
    {
      "cell_type": "code",
      "source": [
        "import os\n",
        "\n",
        "\n",
        "from langchain.chat_models import ChatOpenAI\n",
        "\n",
        "from langchain.prompts import ChatPromptTemplate\n",
        "\n",
        "from langchain.schema import StrOutputParser\n",
        "from langchain.output_parsers.list import CommaSeparatedListOutputParser\n",
        "\n",
        "\n",
        "from langchain.chains import LLMChain\n"
      ],
      "metadata": {
        "id": "3STDIr9bU23s"
      },
      "execution_count": null,
      "outputs": []
    },
    {
      "cell_type": "markdown",
      "source": [
        "## preparation"
      ],
      "metadata": {
        "id": "EfKetdmEVkXw"
      }
    },
    {
      "cell_type": "code",
      "source": [
        "openai_api_key = ...\n",
        "os.environ[\"OPENAI_API_KEY\"] = openai_api_key"
      ],
      "metadata": {
        "id": "huOMycMmVmHZ"
      },
      "execution_count": null,
      "outputs": []
    },
    {
      "cell_type": "code",
      "source": [
        "llm = ChatOpenAI(temperature=0)"
      ],
      "metadata": {
        "id": "9B2gOqdVVoln"
      },
      "execution_count": null,
      "outputs": []
    },
    {
      "cell_type": "markdown",
      "source": [
        "## create a chain\n",
        "We are in the process of constructing a chain designed to receive a food name as input and subsequently provide a list of required ingredients."
      ],
      "metadata": {
        "id": "-CjuLxInVwwQ"
      }
    },
    {
      "cell_type": "code",
      "source": [
        "output_parser = CommaSeparatedListOutputParser()\n",
        "output_parser_format =  output_parser.get_format_instructions()"
      ],
      "metadata": {
        "id": "WYnHTd8ZVum6"
      },
      "execution_count": null,
      "outputs": []
    },
    {
      "cell_type": "code",
      "source": [
        "promt_food_ingredients = \"\"\"\n",
        "You are a helpful AI that will provide a list of ingredients needed to cook a dish.\n",
        "\n",
        "format of output: {format_output}\n",
        "\"\"\""
      ],
      "metadata": {
        "id": "Vq0nM4ojWN9i"
      },
      "execution_count": null,
      "outputs": []
    },
    {
      "cell_type": "code",
      "source": [
        "chat_template = ChatPromptTemplate.from_messages(\n",
        "    [\n",
        "        (\"system\", promt_food_ingredients),\n",
        "        (\"user\", \"{food_name}\"),\n",
        "    ],\n",
        ")\n",
        "chat_template = chat_template.partial(format_output=output_parser_format)"
      ],
      "metadata": {
        "id": "88WjyAf_WP4k"
      },
      "execution_count": null,
      "outputs": []
    },
    {
      "cell_type": "markdown",
      "source": [
        "You can use | as pipe symbol."
      ],
      "metadata": {
        "id": "nDwG-3ioYUBV"
      }
    },
    {
      "cell_type": "code",
      "source": [
        "food_name = input(\"Which specific dish would you like to know the ingredients for?\")\n",
        "chain = chat_template | llm | output_parser\n",
        "\n",
        "output = chain.invoke({\"food_name\":food_name})\n",
        "print(f\"\"\"\n",
        "type:{type(output)}\n",
        "\n",
        "\n",
        "contain:{output}\n",
        "\"\"\")"
      ],
      "metadata": {
        "colab": {
          "base_uri": "https://localhost:8080/"
        },
        "id": "reAINy6uWRkq",
        "outputId": "57930350-4fe1-43c2-d622-cc34ee4cb0df"
      },
      "execution_count": null,
      "outputs": [
        {
          "output_type": "stream",
          "name": "stdout",
          "text": [
            "Which specific dish would you like to know the ingredients for?pizza\n",
            "\n",
            "type:<class 'list'>\n",
            "\n",
            "\n",
            "contain:['dough', 'tomato sauce', 'cheese', 'toppings (e.g. pepperoni', 'mushrooms', 'onions', 'etc.)']\n",
            "\n"
          ]
        }
      ]
    },
    {
      "cell_type": "markdown",
      "source": [
        "for this task you can use LLMChain too."
      ],
      "metadata": {
        "id": "jgAGLsSEYTGT"
      }
    },
    {
      "cell_type": "code",
      "source": [
        "food_name = input(\"Which specific dish would you like to know the ingredients for?\")\n",
        "\n",
        "llm_chain = LLMChain(llm=llm, prompt=chat_template,output_parser=output_parser)\n",
        "output = llm_chain({\"food_name\":food_name})\n",
        "print(f\"\"\"\n",
        "type:{type(output)}\n",
        "\n",
        "\n",
        "contain:{output}\n",
        "\"\"\")"
      ],
      "metadata": {
        "colab": {
          "base_uri": "https://localhost:8080/"
        },
        "id": "It9_ZGGxWiNo",
        "outputId": "25e1bf05-2a52-4b77-a600-72d097cc65e2"
      },
      "execution_count": null,
      "outputs": [
        {
          "output_type": "stream",
          "name": "stdout",
          "text": [
            "Which specific dish would you like to know the ingredients for?pizza\n",
            "\n",
            "type:<class 'dict'>\n",
            "\n",
            "\n",
            "contain:{'food_name': 'pizza', 'text': ['dough', 'tomato sauce', 'cheese', 'toppings (e.g. pepperoni', 'mushrooms', 'onions', 'etc.)']}\n",
            "\n"
          ]
        }
      ]
    },
    {
      "cell_type": "markdown",
      "source": [
        "## a little bit complex chain\n",
        "We are developing an app that takes the name of a food as input. Initially, it generates a recipe for the specified food. Subsequently, the app passes this recipe to another Language Model Module (LLM) to assess the level of difficulty involved in cooking the food."
      ],
      "metadata": {
        "id": "4tsd7wNNZVwd"
      }
    },
    {
      "cell_type": "code",
      "source": [
        "promt_food_recipe = \"\"\"\n",
        "As a helpful AI, your task is to provide a recipe for the specific food that the user has asked about..\n",
        "\n",
        "\"\"\"\n",
        "promt_recipe_difficulty= \"\"\"\n",
        "As a helpful AI, your role is to determine the level of difficulty in cooking the recipe provided by the user.\n",
        "\n",
        "\"\"\""
      ],
      "metadata": {
        "id": "FI1_r0FrYo80"
      },
      "execution_count": null,
      "outputs": []
    },
    {
      "cell_type": "code",
      "source": [
        "recipe_template = ChatPromptTemplate.from_messages(\n",
        "    [\n",
        "        (\"system\", promt_food_recipe),\n",
        "        (\"user\", \"{food_name}\"),\n",
        "    ],\n",
        ")\n",
        "\n",
        "difficulty_template = ChatPromptTemplate.from_messages(\n",
        "    [\n",
        "        (\"system\", promt_recipe_difficulty),\n",
        "        (\"user\", \"{recipe}\"),\n",
        "    ],\n",
        ")\n"
      ],
      "metadata": {
        "id": "DiVxfuHJbohe"
      },
      "execution_count": null,
      "outputs": []
    },
    {
      "cell_type": "code",
      "source": [
        "food_name = input(\"Which specific dish would you like to know the ingredients for?\")\n",
        "chain = recipe_template | llm | {\"recipe\":StrOutputParser()}|difficulty_template | llm |StrOutputParser()\n",
        "\n",
        "output = chain.invoke({\"food_name\":food_name})\n",
        "print(f\"\"\"\n",
        "type:{type(output)}\n",
        "\n",
        "\n",
        "contain:{output}\n",
        "\"\"\")"
      ],
      "metadata": {
        "colab": {
          "base_uri": "https://localhost:8080/"
        },
        "id": "Z55eyanmb1t5",
        "outputId": "d1dee6c2-8c1b-45f7-c38f-e9a8b47789a3"
      },
      "execution_count": null,
      "outputs": [
        {
          "output_type": "stream",
          "name": "stdout",
          "text": [
            "Which specific dish would you like to know the ingredients for?pizza\n",
            "\n",
            "type:<class 'str'>\n",
            "\n",
            "\n",
            "contain:The difficulty level of this homemade pizza recipe is considered to be moderate. While the steps are relatively straightforward, there are a few techniques involved that may require some practice, such as kneading the dough and rolling it out to the desired thickness. Additionally, the rising time for the dough can take up to 2 hours, which requires some patience. However, with careful attention to the instructions, even beginner cooks should be able to successfully make this homemade pizza.\n",
            "\n"
          ]
        }
      ]
    },
    {
      "cell_type": "markdown",
      "source": [
        "## Task\n",
        "Create a program that takes a country name as input and returns a list of its cities."
      ],
      "metadata": {
        "id": "OxB25jLMns9u"
      }
    },
    {
      "cell_type": "markdown",
      "source": [],
      "metadata": {
        "id": "8psMsI4Mbn-c"
      }
    }
  ]
}