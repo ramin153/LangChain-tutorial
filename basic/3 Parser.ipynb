{
  "nbformat": 4,
  "nbformat_minor": 0,
  "metadata": {
    "colab": {
      "provenance": [],
      "toc_visible": true
    },
    "kernelspec": {
      "name": "python3",
      "display_name": "Python 3"
    },
    "language_info": {
      "name": "python"
    }
  },
  "cells": [
    {
      "cell_type": "markdown",
      "source": [
        "#Parser\n",
        "First of all what does parsing data mean?\n",
        "Parsing data refers to the process of analyzing a sequence of symbols, often in the form of text or code, to understand its structure and extract relevant information.\n",
        "\n",
        "what does a parser do?  A parser is a program or a module within a program that performs the task of parsing.\n"
      ],
      "metadata": {
        "id": "aYopRFL5QHss"
      }
    },
    {
      "cell_type": "markdown",
      "source": [
        "## langchain output parser\n",
        "Language models generate text output, but for more structured information, output parsers are employed. Output parsers are classes with two essential methods.\n",
        "\n",
        "1. Get format instructions: This method returns a string containing guidelines on how the language model's output should be formatted.\n",
        "\n",
        "2. Parse : This method takes a string (assumed to be the language model's response) as input and processes it, transforming the unstructured text into a more organized and structured format.\n",
        "\n",
        "Basically, the output parser will provide the main information we want in a suitable data structure.\n",
        "\n",
        "*  [Output parsers langchain website](https://python.langchain.com/docs/modules/model_io/output_parsers/)\n",
        "* [Output parsers langchain api](https://api.python.langchain.com/en/latest/api_reference.html?highlight=output_parsers#module-langchain.output_parsers)\n"
      ],
      "metadata": {
        "id": "CLNthiDWRSRk"
      }
    },
    {
      "cell_type": "markdown",
      "source": [
        "Depending on our task, we have the flexibility to work with different parsers. Specifically, we will be utilizing the list comma-separated output parser and the Pydantic output parser.\n",
        "1.\n",
        "  * [sourc code of list parser](https://api.python.langchain.com/en/v0.0.342/_modules/langchain_core/output_parsers/list.html#)\n",
        "  * [comma-separated  parser tutorial ](https://python.langchain.com/docs/modules/model_io/output_parsers/comma_separated)\n",
        "  * [comma-separated output parser api ](https://api.python.langchain.com/en/latest/output_parsers/langchain_core.output_parsers.list.CommaSeparatedListOutputParser.html?highlight=comma#)\n",
        "\n",
        "2.\n",
        "  * [pydantic website](https://docs.pydantic.dev/latest/)\n",
        "  * [langchain Pydantic parser website](https://python.langchain.com/docs/modules/model_io/output_parsers/pydantic)\n",
        "  * [langchain Pydantic parser api](https://api.python.langchain.com/en/latest/output_parsers/langchain.output_parsers.pydantic.PydanticOutputParser.html?highlight=pydanticoutputparser#langchain.output_parsers.pydantic.PydanticOutputParser)"
      ],
      "metadata": {
        "id": "mi2sgaw3WRA4"
      }
    },
    {
      "cell_type": "markdown",
      "source": [
        "## Initialization section"
      ],
      "metadata": {
        "id": "Xk3vBPm-XZPI"
      }
    },
    {
      "cell_type": "code",
      "source": [
        "!pip install langchain\n",
        "!pip install openai==v0.28.1"
      ],
      "metadata": {
        "colab": {
          "base_uri": "https://localhost:8080/"
        },
        "id": "BVd32ohJXYrP",
        "outputId": "12556364-52b4-40b6-a2c7-d1f4d5b7bb81"
      },
      "execution_count": 1,
      "outputs": [
        {
          "output_type": "stream",
          "name": "stdout",
          "text": [
            "Collecting langchain\n",
            "  Downloading langchain-0.0.344-py3-none-any.whl (1.9 MB)\n",
            "\u001b[2K     \u001b[90m━━━━━━━━━━━━━━━━━━━━━━━━━━━━━━━━━━━━━━━━\u001b[0m \u001b[32m1.9/1.9 MB\u001b[0m \u001b[31m12.3 MB/s\u001b[0m eta \u001b[36m0:00:00\u001b[0m\n",
            "\u001b[?25hRequirement already satisfied: PyYAML>=5.3 in /usr/local/lib/python3.10/dist-packages (from langchain) (6.0.1)\n",
            "Requirement already satisfied: SQLAlchemy<3,>=1.4 in /usr/local/lib/python3.10/dist-packages (from langchain) (2.0.23)\n",
            "Requirement already satisfied: aiohttp<4.0.0,>=3.8.3 in /usr/local/lib/python3.10/dist-packages (from langchain) (3.9.1)\n",
            "Requirement already satisfied: anyio<4.0 in /usr/local/lib/python3.10/dist-packages (from langchain) (3.7.1)\n",
            "Requirement already satisfied: async-timeout<5.0.0,>=4.0.0 in /usr/local/lib/python3.10/dist-packages (from langchain) (4.0.3)\n",
            "Collecting dataclasses-json<0.7,>=0.5.7 (from langchain)\n",
            "  Downloading dataclasses_json-0.6.3-py3-none-any.whl (28 kB)\n",
            "Collecting jsonpatch<2.0,>=1.33 (from langchain)\n",
            "  Downloading jsonpatch-1.33-py2.py3-none-any.whl (12 kB)\n",
            "Collecting langchain-core<0.1,>=0.0.8 (from langchain)\n",
            "  Downloading langchain_core-0.0.8-py3-none-any.whl (177 kB)\n",
            "\u001b[2K     \u001b[90m━━━━━━━━━━━━━━━━━━━━━━━━━━━━━━━━━━━━━━━━\u001b[0m \u001b[32m177.6/177.6 kB\u001b[0m \u001b[31m12.0 MB/s\u001b[0m eta \u001b[36m0:00:00\u001b[0m\n",
            "\u001b[?25hCollecting langsmith<0.1.0,>=0.0.63 (from langchain)\n",
            "  Downloading langsmith-0.0.68-py3-none-any.whl (48 kB)\n",
            "\u001b[2K     \u001b[90m━━━━━━━━━━━━━━━━━━━━━━━━━━━━━━━━━━━━━━━━\u001b[0m \u001b[32m48.1/48.1 kB\u001b[0m \u001b[31m5.3 MB/s\u001b[0m eta \u001b[36m0:00:00\u001b[0m\n",
            "\u001b[?25hRequirement already satisfied: numpy<2,>=1 in /usr/local/lib/python3.10/dist-packages (from langchain) (1.23.5)\n",
            "Requirement already satisfied: pydantic<3,>=1 in /usr/local/lib/python3.10/dist-packages (from langchain) (1.10.13)\n",
            "Requirement already satisfied: requests<3,>=2 in /usr/local/lib/python3.10/dist-packages (from langchain) (2.31.0)\n",
            "Requirement already satisfied: tenacity<9.0.0,>=8.1.0 in /usr/local/lib/python3.10/dist-packages (from langchain) (8.2.3)\n",
            "Requirement already satisfied: attrs>=17.3.0 in /usr/local/lib/python3.10/dist-packages (from aiohttp<4.0.0,>=3.8.3->langchain) (23.1.0)\n",
            "Requirement already satisfied: multidict<7.0,>=4.5 in /usr/local/lib/python3.10/dist-packages (from aiohttp<4.0.0,>=3.8.3->langchain) (6.0.4)\n",
            "Requirement already satisfied: yarl<2.0,>=1.0 in /usr/local/lib/python3.10/dist-packages (from aiohttp<4.0.0,>=3.8.3->langchain) (1.9.3)\n",
            "Requirement already satisfied: frozenlist>=1.1.1 in /usr/local/lib/python3.10/dist-packages (from aiohttp<4.0.0,>=3.8.3->langchain) (1.4.0)\n",
            "Requirement already satisfied: aiosignal>=1.1.2 in /usr/local/lib/python3.10/dist-packages (from aiohttp<4.0.0,>=3.8.3->langchain) (1.3.1)\n",
            "Requirement already satisfied: idna>=2.8 in /usr/local/lib/python3.10/dist-packages (from anyio<4.0->langchain) (3.6)\n",
            "Requirement already satisfied: sniffio>=1.1 in /usr/local/lib/python3.10/dist-packages (from anyio<4.0->langchain) (1.3.0)\n",
            "Requirement already satisfied: exceptiongroup in /usr/local/lib/python3.10/dist-packages (from anyio<4.0->langchain) (1.2.0)\n",
            "Collecting marshmallow<4.0.0,>=3.18.0 (from dataclasses-json<0.7,>=0.5.7->langchain)\n",
            "  Downloading marshmallow-3.20.1-py3-none-any.whl (49 kB)\n",
            "\u001b[2K     \u001b[90m━━━━━━━━━━━━━━━━━━━━━━━━━━━━━━━━━━━━━━━━\u001b[0m \u001b[32m49.4/49.4 kB\u001b[0m \u001b[31m7.3 MB/s\u001b[0m eta \u001b[36m0:00:00\u001b[0m\n",
            "\u001b[?25hCollecting typing-inspect<1,>=0.4.0 (from dataclasses-json<0.7,>=0.5.7->langchain)\n",
            "  Downloading typing_inspect-0.9.0-py3-none-any.whl (8.8 kB)\n",
            "Collecting jsonpointer>=1.9 (from jsonpatch<2.0,>=1.33->langchain)\n",
            "  Downloading jsonpointer-2.4-py2.py3-none-any.whl (7.8 kB)\n",
            "Requirement already satisfied: typing-extensions>=4.2.0 in /usr/local/lib/python3.10/dist-packages (from pydantic<3,>=1->langchain) (4.5.0)\n",
            "Requirement already satisfied: charset-normalizer<4,>=2 in /usr/local/lib/python3.10/dist-packages (from requests<3,>=2->langchain) (3.3.2)\n",
            "Requirement already satisfied: urllib3<3,>=1.21.1 in /usr/local/lib/python3.10/dist-packages (from requests<3,>=2->langchain) (2.0.7)\n",
            "Requirement already satisfied: certifi>=2017.4.17 in /usr/local/lib/python3.10/dist-packages (from requests<3,>=2->langchain) (2023.11.17)\n",
            "Requirement already satisfied: greenlet!=0.4.17 in /usr/local/lib/python3.10/dist-packages (from SQLAlchemy<3,>=1.4->langchain) (3.0.1)\n",
            "Requirement already satisfied: packaging>=17.0 in /usr/local/lib/python3.10/dist-packages (from marshmallow<4.0.0,>=3.18.0->dataclasses-json<0.7,>=0.5.7->langchain) (23.2)\n",
            "Collecting mypy-extensions>=0.3.0 (from typing-inspect<1,>=0.4.0->dataclasses-json<0.7,>=0.5.7->langchain)\n",
            "  Downloading mypy_extensions-1.0.0-py3-none-any.whl (4.7 kB)\n",
            "Installing collected packages: mypy-extensions, marshmallow, jsonpointer, typing-inspect, langsmith, jsonpatch, langchain-core, dataclasses-json, langchain\n",
            "Successfully installed dataclasses-json-0.6.3 jsonpatch-1.33 jsonpointer-2.4 langchain-0.0.344 langchain-core-0.0.8 langsmith-0.0.68 marshmallow-3.20.1 mypy-extensions-1.0.0 typing-inspect-0.9.0\n",
            "Collecting openai==v0.28.1\n",
            "  Downloading openai-0.28.1-py3-none-any.whl (76 kB)\n",
            "\u001b[2K     \u001b[90m━━━━━━━━━━━━━━━━━━━━━━━━━━━━━━━━━━━━━━━━\u001b[0m \u001b[32m77.0/77.0 kB\u001b[0m \u001b[31m1.9 MB/s\u001b[0m eta \u001b[36m0:00:00\u001b[0m\n",
            "\u001b[?25hRequirement already satisfied: requests>=2.20 in /usr/local/lib/python3.10/dist-packages (from openai==v0.28.1) (2.31.0)\n",
            "Requirement already satisfied: tqdm in /usr/local/lib/python3.10/dist-packages (from openai==v0.28.1) (4.66.1)\n",
            "Requirement already satisfied: aiohttp in /usr/local/lib/python3.10/dist-packages (from openai==v0.28.1) (3.9.1)\n",
            "Requirement already satisfied: charset-normalizer<4,>=2 in /usr/local/lib/python3.10/dist-packages (from requests>=2.20->openai==v0.28.1) (3.3.2)\n",
            "Requirement already satisfied: idna<4,>=2.5 in /usr/local/lib/python3.10/dist-packages (from requests>=2.20->openai==v0.28.1) (3.6)\n",
            "Requirement already satisfied: urllib3<3,>=1.21.1 in /usr/local/lib/python3.10/dist-packages (from requests>=2.20->openai==v0.28.1) (2.0.7)\n",
            "Requirement already satisfied: certifi>=2017.4.17 in /usr/local/lib/python3.10/dist-packages (from requests>=2.20->openai==v0.28.1) (2023.11.17)\n",
            "Requirement already satisfied: attrs>=17.3.0 in /usr/local/lib/python3.10/dist-packages (from aiohttp->openai==v0.28.1) (23.1.0)\n",
            "Requirement already satisfied: multidict<7.0,>=4.5 in /usr/local/lib/python3.10/dist-packages (from aiohttp->openai==v0.28.1) (6.0.4)\n",
            "Requirement already satisfied: yarl<2.0,>=1.0 in /usr/local/lib/python3.10/dist-packages (from aiohttp->openai==v0.28.1) (1.9.3)\n",
            "Requirement already satisfied: frozenlist>=1.1.1 in /usr/local/lib/python3.10/dist-packages (from aiohttp->openai==v0.28.1) (1.4.0)\n",
            "Requirement already satisfied: aiosignal>=1.1.2 in /usr/local/lib/python3.10/dist-packages (from aiohttp->openai==v0.28.1) (1.3.1)\n",
            "Requirement already satisfied: async-timeout<5.0,>=4.0 in /usr/local/lib/python3.10/dist-packages (from aiohttp->openai==v0.28.1) (4.0.3)\n",
            "Installing collected packages: openai\n",
            "\u001b[31mERROR: pip's dependency resolver does not currently take into account all the packages that are installed. This behaviour is the source of the following dependency conflicts.\n",
            "llmx 0.0.15a0 requires cohere, which is not installed.\n",
            "llmx 0.0.15a0 requires tiktoken, which is not installed.\u001b[0m\u001b[31m\n",
            "\u001b[0mSuccessfully installed openai-0.28.1\n"
          ]
        }
      ]
    },
    {
      "cell_type": "markdown",
      "source": [
        "## Import section"
      ],
      "metadata": {
        "id": "JjE4Vwx0XTcp"
      }
    },
    {
      "cell_type": "code",
      "source": [
        "import os\n",
        "\n",
        "from typing import List\n",
        "\n",
        "\n",
        "from langchain.chat_models import ChatOpenAI\n",
        "from langchain.output_parsers.list import CommaSeparatedListOutputParser\n",
        "from langchain.prompts import ChatPromptTemplate\n",
        "from langchain.output_parsers import PydanticOutputParser\n",
        "\n",
        "\n",
        "\n",
        "from langchain.pydantic_v1 import BaseModel, Field"
      ],
      "metadata": {
        "id": "EiOSIUakXS2p"
      },
      "execution_count": 23,
      "outputs": []
    },
    {
      "cell_type": "markdown",
      "source": [
        "## preparation"
      ],
      "metadata": {
        "id": "bOF1N72BXWzG"
      }
    },
    {
      "cell_type": "code",
      "source": [
        "openai_api_key = ...\n",
        "os.environ[\"OPENAI_API_KEY\"] = openai_api_key"
      ],
      "metadata": {
        "id": "qIkT4q_4YsCO"
      },
      "execution_count": 3,
      "outputs": []
    },
    {
      "cell_type": "code",
      "source": [
        "llm = ChatOpenAI(temperature=0)"
      ],
      "metadata": {
        "id": "yqx1XKBSNAmh"
      },
      "execution_count": 4,
      "outputs": []
    },
    {
      "cell_type": "markdown",
      "source": [
        "## comma-separated\n",
        "We are creating a program that takes the name of a food and returns the list of ingredients needed to cook it"
      ],
      "metadata": {
        "id": "ksCoT3xqX1cT"
      }
    },
    {
      "cell_type": "code",
      "source": [
        "output_parser = CommaSeparatedListOutputParser()\n",
        "output_parser_format =  output_parser.get_format_instructions()"
      ],
      "metadata": {
        "id": "zNlBOX1ubY8c"
      },
      "execution_count": 7,
      "outputs": []
    },
    {
      "cell_type": "code",
      "execution_count": 8,
      "metadata": {
        "id": "QZFf2soT76U1"
      },
      "outputs": [],
      "source": [
        "promt_food_ingredients = \"\"\"\n",
        "You are a helpful AI that will provide a list of ingredients needed to cook a dish.\n",
        "\n",
        "format of output: {format_output}\n",
        "\"\"\""
      ]
    },
    {
      "cell_type": "code",
      "source": [
        "chat_template = ChatPromptTemplate.from_messages(\n",
        "    [\n",
        "        (\"system\", promt_food_ingredients),\n",
        "        (\"user\", \"{food_name}\"),\n",
        "    ],\n",
        ")\n",
        "chat_template = chat_template.partial(format_output=output_parser_format)"
      ],
      "metadata": {
        "id": "1iXB941aauYT"
      },
      "execution_count": 14,
      "outputs": []
    },
    {
      "cell_type": "code",
      "source": [
        "food_name = input(\"Which specific dish would you like to know the ingredients for?\")\n",
        "message = chat_template.format_messages(food_name=food_name)\n",
        "response = llm(message)\n",
        "output = output_parser.parse(response.content)\n",
        "print(f\"\"\"\n",
        "type:{type(output)}\n",
        "\n",
        "\n",
        "contain:{output}\n",
        "\"\"\")"
      ],
      "metadata": {
        "colab": {
          "base_uri": "https://localhost:8080/"
        },
        "id": "3RAkCTLgciML",
        "outputId": "c3d04d1c-1fdd-44e9-8594-88dec3408c9b"
      },
      "execution_count": 19,
      "outputs": [
        {
          "output_type": "stream",
          "name": "stdout",
          "text": [
            "Which specific dish would you like to know the ingredients for?pizza\n",
            "\n",
            "type:<class 'list'>\n",
            "\n",
            "\n",
            "contain:['dough', 'tomato sauce', 'cheese', 'toppings (e.g. pepperoni', 'mushrooms', 'onions', 'etc.)']\n",
            "\n"
          ]
        }
      ]
    },
    {
      "cell_type": "markdown",
      "source": [
        "## Pydantic\n",
        "Now we are going to get more information"
      ],
      "metadata": {
        "id": "4N7n9bBCenGI"
      }
    },
    {
      "cell_type": "code",
      "source": [
        "class DishRecipe(BaseModel):\n",
        "    food_name: str = Field(description=\"Name of the food\")\n",
        "    ingredients: List[str] = Field(description=\"List of ingredients needed for cooking\")\n",
        "    cooking_steps: List[str] = Field(description=\"List of steps needed to cook the food\")\n",
        "parser = PydanticOutputParser(pydantic_object=DishRecipe)\n",
        "format_output = parser.get_format_instructions()"
      ],
      "metadata": {
        "id": "MxQgB1MNc-BL"
      },
      "execution_count": 24,
      "outputs": []
    },
    {
      "cell_type": "code",
      "source": [
        "promt_recipe = \"\"\"\n",
        "You are a helpful AI that users can ask for a food name, and you will provide the list of ingredients needed along with the steps required to cook it.\n",
        "{format_output}\n",
        "\"\"\""
      ],
      "metadata": {
        "id": "7jXt36LGdC8r"
      },
      "execution_count": 42,
      "outputs": []
    },
    {
      "cell_type": "code",
      "source": [
        "chat_template = ChatPromptTemplate.from_messages(\n",
        "    [\n",
        "        (\"system\", promt_recipe),\n",
        "        (\"user\", \"{food_name}\"),\n",
        "    ],\n",
        ")\n",
        "chat_template = chat_template.partial(format_output=format_output)"
      ],
      "metadata": {
        "id": "FzK6YgE3g-4P"
      },
      "execution_count": 43,
      "outputs": []
    },
    {
      "cell_type": "code",
      "source": [
        "food_name = input(\"Which specific dish would you like to know how to cook?\")\n",
        "message = chat_template.format_messages(food_name=food_name)\n",
        "response = llm(message)\n",
        "output = parser.parse(response.content)\n",
        "print(f\"\"\"\n",
        "contain:{output}\n",
        "\"\"\")"
      ],
      "metadata": {
        "colab": {
          "base_uri": "https://localhost:8080/"
        },
        "id": "8Rn5bBMZhaOO",
        "outputId": "67c17747-6461-454e-ddfa-22ede30c6e8d"
      },
      "execution_count": 46,
      "outputs": [
        {
          "output_type": "stream",
          "name": "stdout",
          "text": [
            "Which specific dish would you like to know how to cook?pizza\n",
            "\n",
            "contain:food_name='Pizza' ingredients=['Pizza dough', 'Tomato sauce', 'Mozzarella cheese', 'Toppings of your choice (e.g. pepperoni, mushrooms, onions, bell peppers)', 'Olive oil', 'Salt', 'Dried oregano', 'Garlic powder'] cooking_steps=['Preheat the oven to 475°F (245°C).', 'Roll out the pizza dough on a floured surface to your desired thickness.', 'Transfer the rolled-out dough to a baking sheet or pizza stone.', 'Spread a thin layer of tomato sauce evenly over the dough, leaving a small border around the edges.', 'Sprinkle mozzarella cheese over the sauce.', 'Add your desired toppings, such as pepperoni, mushrooms, onions, and bell peppers.', 'Drizzle a little olive oil over the toppings and sprinkle with salt, dried oregano, and garlic powder.', 'Bake the pizza in the preheated oven for about 12-15 minutes, or until the crust is golden brown and the cheese is melted and bubbly.', 'Remove the pizza from the oven and let it cool for a few minutes before slicing and serving.']\n",
            "\n"
          ]
        }
      ]
    },
    {
      "cell_type": "markdown",
      "source": [
        "## Task\n",
        "write a program that takes the name of a plant as input and returns a summary of information, including average life expectancy and a list of locations where it can live and so on ."
      ],
      "metadata": {
        "id": "HQs7tNLWjviM"
      }
    }
  ]
}