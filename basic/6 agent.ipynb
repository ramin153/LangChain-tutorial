{
  "nbformat": 4,
  "nbformat_minor": 0,
  "metadata": {
    "colab": {
      "provenance": []
    },
    "kernelspec": {
      "name": "python3",
      "display_name": "Python 3"
    },
    "language_info": {
      "name": "python"
    }
  },
  "cells": [
    {
      "cell_type": "markdown",
      "source": [
        "# Agent\n",
        "\n",
        "Large Language Models (LLMs) possess significant power but encounter inherent limitations that hinder their practical applications. Agents serve as intermediaries, addressing these limitations and connecting LLMs with real-world scenarios. LLMs' complexity is streamlined by agents, breaking down tasks into manageable steps, enhancing user experience, and enabling more efficient task execution. Agents facilitate LLMs' interaction with the real world by providing access to external data and resources, extending their capabilities beyond language processing. Integration with external tools expands LLM capabilities, allowing them to handle a broader range of tasks. Agents also mitigate errors by offering continuous feedback, aiding in performance improvement. Additionally, agents automate LLM management tasks, such as deployment and monitoring, reducing user burden and optimizing LLM usage. In summary, agents play a crucial role in overcoming LLM limitations, enabling more effective and comprehensive operation to address real-world challenges and transform industries.\n",
        "\n",
        "Agents in LangChain contain a toolbox that allows them to solve a variety of problems. They can call upon different tools based on the task at hand to provide users with comprehensive and informative solutions. Agents can generate creative text, access and process information from external sources, translate languages, summarize text, and identify patterns in data. As more tools are added to the toolbox, agents will become even more powerful and versatile.\n",
        "\n",
        "* [langchain agents turorail](https://python.langchain.com/docs/modules/agents/tools/)\n"
      ],
      "metadata": {
        "id": "PjOU5tpOoSfj"
      }
    },
    {
      "cell_type": "markdown",
      "source": [
        "Langchain is a versatile platform that provides a wide array of tools specifically designed for language processing tasks. These tools are not only efficient but also user-friendly, making them ideal for both beginners and experts in the field.\n",
        "\n",
        "What sets Langchain apart is its flexibility. If the available tools do not meet your specific requirements, Langchain gives you the unique opportunity to create your own custom tool. This means you can tailor a tool to perform exactly the task you need, making your work more effective and streamlined.\n",
        "\n",
        "Whether you're working on a complex linguistic project or simply need to automate a routine task, Langchain has got you covered. Its combination of ready-to-use tools and the ability to create custom ones makes it a one-stop solution for all your language processing needs.\n",
        "\n",
        "* [available tools](https://python.langchain.com/docs/integrations/tools)\n"
      ],
      "metadata": {
        "id": "vIKqIK6bRpgs"
      }
    },
    {
      "cell_type": "markdown",
      "source": [
        "## Initialization section"
      ],
      "metadata": {
        "id": "wOchZwbqUyfH"
      }
    },
    {
      "cell_type": "code",
      "execution_count": 12,
      "metadata": {
        "colab": {
          "base_uri": "https://localhost:8080/"
        },
        "id": "QiQ9AwQaTya-",
        "outputId": "9a0f57d2-5d7d-42e1-a22e-586b41a154dd"
      },
      "outputs": [
        {
          "output_type": "stream",
          "name": "stdout",
          "text": [
            "Requirement already satisfied: langchain in /usr/local/lib/python3.10/dist-packages (0.0.348)\n",
            "Requirement already satisfied: PyYAML>=5.3 in /usr/local/lib/python3.10/dist-packages (from langchain) (6.0.1)\n",
            "Requirement already satisfied: SQLAlchemy<3,>=1.4 in /usr/local/lib/python3.10/dist-packages (from langchain) (2.0.23)\n",
            "Requirement already satisfied: aiohttp<4.0.0,>=3.8.3 in /usr/local/lib/python3.10/dist-packages (from langchain) (3.9.1)\n",
            "Requirement already satisfied: async-timeout<5.0.0,>=4.0.0 in /usr/local/lib/python3.10/dist-packages (from langchain) (4.0.3)\n",
            "Requirement already satisfied: dataclasses-json<0.7,>=0.5.7 in /usr/local/lib/python3.10/dist-packages (from langchain) (0.6.3)\n",
            "Requirement already satisfied: jsonpatch<2.0,>=1.33 in /usr/local/lib/python3.10/dist-packages (from langchain) (1.33)\n",
            "Requirement already satisfied: langchain-core<0.1,>=0.0.12 in /usr/local/lib/python3.10/dist-packages (from langchain) (0.0.12)\n",
            "Requirement already satisfied: langsmith<0.1.0,>=0.0.63 in /usr/local/lib/python3.10/dist-packages (from langchain) (0.0.69)\n",
            "Requirement already satisfied: numpy<2,>=1 in /usr/local/lib/python3.10/dist-packages (from langchain) (1.23.5)\n",
            "Requirement already satisfied: pydantic<3,>=1 in /usr/local/lib/python3.10/dist-packages (from langchain) (1.10.13)\n",
            "Requirement already satisfied: requests<3,>=2 in /usr/local/lib/python3.10/dist-packages (from langchain) (2.31.0)\n",
            "Requirement already satisfied: tenacity<9.0.0,>=8.1.0 in /usr/local/lib/python3.10/dist-packages (from langchain) (8.2.3)\n",
            "Requirement already satisfied: attrs>=17.3.0 in /usr/local/lib/python3.10/dist-packages (from aiohttp<4.0.0,>=3.8.3->langchain) (23.1.0)\n",
            "Requirement already satisfied: multidict<7.0,>=4.5 in /usr/local/lib/python3.10/dist-packages (from aiohttp<4.0.0,>=3.8.3->langchain) (6.0.4)\n",
            "Requirement already satisfied: yarl<2.0,>=1.0 in /usr/local/lib/python3.10/dist-packages (from aiohttp<4.0.0,>=3.8.3->langchain) (1.9.3)\n",
            "Requirement already satisfied: frozenlist>=1.1.1 in /usr/local/lib/python3.10/dist-packages (from aiohttp<4.0.0,>=3.8.3->langchain) (1.4.0)\n",
            "Requirement already satisfied: aiosignal>=1.1.2 in /usr/local/lib/python3.10/dist-packages (from aiohttp<4.0.0,>=3.8.3->langchain) (1.3.1)\n",
            "Requirement already satisfied: marshmallow<4.0.0,>=3.18.0 in /usr/local/lib/python3.10/dist-packages (from dataclasses-json<0.7,>=0.5.7->langchain) (3.20.1)\n",
            "Requirement already satisfied: typing-inspect<1,>=0.4.0 in /usr/local/lib/python3.10/dist-packages (from dataclasses-json<0.7,>=0.5.7->langchain) (0.9.0)\n",
            "Requirement already satisfied: jsonpointer>=1.9 in /usr/local/lib/python3.10/dist-packages (from jsonpatch<2.0,>=1.33->langchain) (2.4)\n",
            "Requirement already satisfied: anyio<5,>=3 in /usr/local/lib/python3.10/dist-packages (from langchain-core<0.1,>=0.0.12->langchain) (3.7.1)\n",
            "Requirement already satisfied: packaging<24.0,>=23.2 in /usr/local/lib/python3.10/dist-packages (from langchain-core<0.1,>=0.0.12->langchain) (23.2)\n",
            "Requirement already satisfied: typing-extensions>=4.2.0 in /usr/local/lib/python3.10/dist-packages (from pydantic<3,>=1->langchain) (4.5.0)\n",
            "Requirement already satisfied: charset-normalizer<4,>=2 in /usr/local/lib/python3.10/dist-packages (from requests<3,>=2->langchain) (3.3.2)\n",
            "Requirement already satisfied: idna<4,>=2.5 in /usr/local/lib/python3.10/dist-packages (from requests<3,>=2->langchain) (3.6)\n",
            "Requirement already satisfied: urllib3<3,>=1.21.1 in /usr/local/lib/python3.10/dist-packages (from requests<3,>=2->langchain) (2.0.7)\n",
            "Requirement already satisfied: certifi>=2017.4.17 in /usr/local/lib/python3.10/dist-packages (from requests<3,>=2->langchain) (2023.11.17)\n",
            "Requirement already satisfied: greenlet!=0.4.17 in /usr/local/lib/python3.10/dist-packages (from SQLAlchemy<3,>=1.4->langchain) (3.0.1)\n",
            "Requirement already satisfied: sniffio>=1.1 in /usr/local/lib/python3.10/dist-packages (from anyio<5,>=3->langchain-core<0.1,>=0.0.12->langchain) (1.3.0)\n",
            "Requirement already satisfied: exceptiongroup in /usr/local/lib/python3.10/dist-packages (from anyio<5,>=3->langchain-core<0.1,>=0.0.12->langchain) (1.2.0)\n",
            "Requirement already satisfied: mypy-extensions>=0.3.0 in /usr/local/lib/python3.10/dist-packages (from typing-inspect<1,>=0.4.0->dataclasses-json<0.7,>=0.5.7->langchain) (1.0.0)\n",
            "Requirement already satisfied: openai==v0.28.1 in /usr/local/lib/python3.10/dist-packages (0.28.1)\n",
            "Requirement already satisfied: requests>=2.20 in /usr/local/lib/python3.10/dist-packages (from openai==v0.28.1) (2.31.0)\n",
            "Requirement already satisfied: tqdm in /usr/local/lib/python3.10/dist-packages (from openai==v0.28.1) (4.66.1)\n",
            "Requirement already satisfied: aiohttp in /usr/local/lib/python3.10/dist-packages (from openai==v0.28.1) (3.9.1)\n",
            "Requirement already satisfied: charset-normalizer<4,>=2 in /usr/local/lib/python3.10/dist-packages (from requests>=2.20->openai==v0.28.1) (3.3.2)\n",
            "Requirement already satisfied: idna<4,>=2.5 in /usr/local/lib/python3.10/dist-packages (from requests>=2.20->openai==v0.28.1) (3.6)\n",
            "Requirement already satisfied: urllib3<3,>=1.21.1 in /usr/local/lib/python3.10/dist-packages (from requests>=2.20->openai==v0.28.1) (2.0.7)\n",
            "Requirement already satisfied: certifi>=2017.4.17 in /usr/local/lib/python3.10/dist-packages (from requests>=2.20->openai==v0.28.1) (2023.11.17)\n",
            "Requirement already satisfied: attrs>=17.3.0 in /usr/local/lib/python3.10/dist-packages (from aiohttp->openai==v0.28.1) (23.1.0)\n",
            "Requirement already satisfied: multidict<7.0,>=4.5 in /usr/local/lib/python3.10/dist-packages (from aiohttp->openai==v0.28.1) (6.0.4)\n",
            "Requirement already satisfied: yarl<2.0,>=1.0 in /usr/local/lib/python3.10/dist-packages (from aiohttp->openai==v0.28.1) (1.9.3)\n",
            "Requirement already satisfied: frozenlist>=1.1.1 in /usr/local/lib/python3.10/dist-packages (from aiohttp->openai==v0.28.1) (1.4.0)\n",
            "Requirement already satisfied: aiosignal>=1.1.2 in /usr/local/lib/python3.10/dist-packages (from aiohttp->openai==v0.28.1) (1.3.1)\n",
            "Requirement already satisfied: async-timeout<5.0,>=4.0 in /usr/local/lib/python3.10/dist-packages (from aiohttp->openai==v0.28.1) (4.0.3)\n",
            "Requirement already satisfied: duckduckgo-search in /usr/local/lib/python3.10/dist-packages (3.9.10)\n",
            "Requirement already satisfied: aiofiles>=23.2.1 in /usr/local/lib/python3.10/dist-packages (from duckduckgo-search) (23.2.1)\n",
            "Requirement already satisfied: click>=8.1.7 in /usr/local/lib/python3.10/dist-packages (from duckduckgo-search) (8.1.7)\n",
            "Requirement already satisfied: lxml>=4.9.3 in /usr/local/lib/python3.10/dist-packages (from duckduckgo-search) (4.9.3)\n",
            "Requirement already satisfied: httpx[brotli,http2,socks]>=0.25.1 in /usr/local/lib/python3.10/dist-packages (from duckduckgo-search) (0.25.2)\n",
            "Requirement already satisfied: anyio in /usr/local/lib/python3.10/dist-packages (from httpx[brotli,http2,socks]>=0.25.1->duckduckgo-search) (3.7.1)\n",
            "Requirement already satisfied: certifi in /usr/local/lib/python3.10/dist-packages (from httpx[brotli,http2,socks]>=0.25.1->duckduckgo-search) (2023.11.17)\n",
            "Requirement already satisfied: httpcore==1.* in /usr/local/lib/python3.10/dist-packages (from httpx[brotli,http2,socks]>=0.25.1->duckduckgo-search) (1.0.2)\n",
            "Requirement already satisfied: idna in /usr/local/lib/python3.10/dist-packages (from httpx[brotli,http2,socks]>=0.25.1->duckduckgo-search) (3.6)\n",
            "Requirement already satisfied: sniffio in /usr/local/lib/python3.10/dist-packages (from httpx[brotli,http2,socks]>=0.25.1->duckduckgo-search) (1.3.0)\n",
            "Requirement already satisfied: socksio==1.* in /usr/local/lib/python3.10/dist-packages (from httpx[brotli,http2,socks]>=0.25.1->duckduckgo-search) (1.0.0)\n",
            "Requirement already satisfied: brotli in /usr/local/lib/python3.10/dist-packages (from httpx[brotli,http2,socks]>=0.25.1->duckduckgo-search) (1.1.0)\n",
            "Requirement already satisfied: h2<5,>=3 in /usr/local/lib/python3.10/dist-packages (from httpx[brotli,http2,socks]>=0.25.1->duckduckgo-search) (4.1.0)\n",
            "Requirement already satisfied: h11<0.15,>=0.13 in /usr/local/lib/python3.10/dist-packages (from httpcore==1.*->httpx[brotli,http2,socks]>=0.25.1->duckduckgo-search) (0.14.0)\n",
            "Requirement already satisfied: hyperframe<7,>=6.0 in /usr/local/lib/python3.10/dist-packages (from h2<5,>=3->httpx[brotli,http2,socks]>=0.25.1->duckduckgo-search) (6.0.1)\n",
            "Requirement already satisfied: hpack<5,>=4.0 in /usr/local/lib/python3.10/dist-packages (from h2<5,>=3->httpx[brotli,http2,socks]>=0.25.1->duckduckgo-search) (4.0.0)\n",
            "Requirement already satisfied: exceptiongroup in /usr/local/lib/python3.10/dist-packages (from anyio->httpx[brotli,http2,socks]>=0.25.1->duckduckgo-search) (1.2.0)\n",
            "Requirement already satisfied: langchainhub in /usr/local/lib/python3.10/dist-packages (0.1.14)\n",
            "Requirement already satisfied: requests<3,>=2 in /usr/local/lib/python3.10/dist-packages (from langchainhub) (2.31.0)\n",
            "Requirement already satisfied: types-requests<3.0.0.0,>=2.31.0.2 in /usr/local/lib/python3.10/dist-packages (from langchainhub) (2.31.0.10)\n",
            "Requirement already satisfied: charset-normalizer<4,>=2 in /usr/local/lib/python3.10/dist-packages (from requests<3,>=2->langchainhub) (3.3.2)\n",
            "Requirement already satisfied: idna<4,>=2.5 in /usr/local/lib/python3.10/dist-packages (from requests<3,>=2->langchainhub) (3.6)\n",
            "Requirement already satisfied: urllib3<3,>=1.21.1 in /usr/local/lib/python3.10/dist-packages (from requests<3,>=2->langchainhub) (2.0.7)\n",
            "Requirement already satisfied: certifi>=2017.4.17 in /usr/local/lib/python3.10/dist-packages (from requests<3,>=2->langchainhub) (2023.11.17)\n",
            "Collecting youtube_search\n",
            "  Downloading youtube_search-2.1.2-py3-none-any.whl (3.4 kB)\n",
            "Requirement already satisfied: requests in /usr/local/lib/python3.10/dist-packages (from youtube_search) (2.31.0)\n",
            "Requirement already satisfied: charset-normalizer<4,>=2 in /usr/local/lib/python3.10/dist-packages (from requests->youtube_search) (3.3.2)\n",
            "Requirement already satisfied: idna<4,>=2.5 in /usr/local/lib/python3.10/dist-packages (from requests->youtube_search) (3.6)\n",
            "Requirement already satisfied: urllib3<3,>=1.21.1 in /usr/local/lib/python3.10/dist-packages (from requests->youtube_search) (2.0.7)\n",
            "Requirement already satisfied: certifi>=2017.4.17 in /usr/local/lib/python3.10/dist-packages (from requests->youtube_search) (2023.11.17)\n",
            "Installing collected packages: youtube_search\n",
            "Successfully installed youtube_search-2.1.2\n"
          ]
        }
      ],
      "source": [
        "!pip install langchain\n",
        "!pip install openai==v0.28.1\n",
        "!pip install -U duckduckgo-search\n",
        "!pip install langchainhub\n",
        "! pip install youtube_search\n",
        "\n"
      ]
    },
    {
      "cell_type": "markdown",
      "source": [
        "## Import section"
      ],
      "metadata": {
        "id": "eayfjIJEU5s2"
      }
    },
    {
      "cell_type": "code",
      "source": [
        "import os\n",
        "\n",
        "\n",
        "from langchain.chat_models import ChatOpenAI\n",
        "\n",
        "from langchain.prompts import ChatPromptTemplate\n",
        "\n",
        "from langchain.tools import DuckDuckGoSearchRun\n",
        "from langchain.tools import YouTubeSearchTool\n",
        "\n",
        "\n",
        "\n",
        "from langchain import hub\n",
        "from langchain.agents.format_scratchpad import format_log_to_str\n",
        "from langchain.agents.output_parsers import ReActSingleInputOutputParser\n",
        "from langchain.tools.render import render_text_description\n",
        "\n",
        "from langchain.agents import tool,Tool\n",
        "\n",
        "\n",
        "\n",
        "from langchain.agents import AgentType, initialize_agent\n",
        "\n"
      ],
      "metadata": {
        "id": "3STDIr9bU23s"
      },
      "execution_count": 13,
      "outputs": []
    },
    {
      "cell_type": "markdown",
      "source": [
        "## preparation"
      ],
      "metadata": {
        "id": "EfKetdmEVkXw"
      }
    },
    {
      "cell_type": "code",
      "source": [
        "openai_api_key = ...\n",
        "os.environ[\"OPENAI_API_KEY\"] = openai_api_key"
      ],
      "metadata": {
        "id": "huOMycMmVmHZ"
      },
      "execution_count": 3,
      "outputs": []
    },
    {
      "cell_type": "code",
      "source": [
        "llm = ChatOpenAI(temperature=0)"
      ],
      "metadata": {
        "id": "9B2gOqdVVoln"
      },
      "execution_count": 4,
      "outputs": []
    },
    {
      "cell_type": "markdown",
      "source": [
        "## First task\n",
        "We are going to create a program that will answer question base on duckduckgo search engine."
      ],
      "metadata": {
        "id": "v6rEGYYlZ7Yl"
      }
    },
    {
      "cell_type": "code",
      "source": [
        "search = DuckDuckGoSearchRun()"
      ],
      "metadata": {
        "id": "RB0X3JxLISv7"
      },
      "execution_count": 5,
      "outputs": []
    },
    {
      "cell_type": "code",
      "source": [
        "tools = [\n",
        "    Tool.from_function(\n",
        "        func=search.run,\n",
        "        name=\"Search\",\n",
        "        description=\"You can use this tool when you need information about know\",\n",
        "    ),\n",
        "]"
      ],
      "metadata": {
        "id": "JLcnjDRhUc2C"
      },
      "execution_count": 6,
      "outputs": []
    },
    {
      "cell_type": "markdown",
      "source": [
        "we are going to download one of promt template from [hub](https://smith.langchain.com/hub)"
      ],
      "metadata": {
        "id": "wrOUn0bLZeKB"
      }
    },
    {
      "cell_type": "code",
      "source": [
        "\n",
        "prompt = hub.pull(\"hwchase17/react-chat\")\n",
        "\n",
        "prompt = prompt.partial(\n",
        "    tools=render_text_description(tools),\n",
        "    tool_names=\", \".join([t.name for t in tools]),\n",
        ")"
      ],
      "metadata": {
        "id": "VZwRL61LYPgs"
      },
      "execution_count": 7,
      "outputs": []
    },
    {
      "cell_type": "code",
      "source": [
        "agent = initialize_agent(\n",
        "    tools, llm, agent=AgentType.ZERO_SHOT_REACT_DESCRIPTION, verbose=True\n",
        ")\n",
        "\n"
      ],
      "metadata": {
        "id": "d1fEnK9pdvj9"
      },
      "execution_count": 8,
      "outputs": []
    },
    {
      "cell_type": "code",
      "source": [
        "agent.invoke({\"input\": \"price of gold today in USA \"})[\"output\"]"
      ],
      "metadata": {
        "colab": {
          "base_uri": "https://localhost:8080/",
          "height": 246
        },
        "id": "sONjh8-yd_MV",
        "outputId": "61eaa505-af92-4d3d-d3a1-f506dace6d6b"
      },
      "execution_count": 11,
      "outputs": [
        {
          "output_type": "stream",
          "name": "stdout",
          "text": [
            "\n",
            "\n",
            "\u001b[1m> Entering new AgentExecutor chain...\u001b[0m\n",
            "\u001b[32;1m\u001b[1;3mI need to find the current price of gold in the USA.\n",
            "Action: Search\n",
            "Action Input: \"current price of gold in USA\"\u001b[0m\n",
            "Observation: \u001b[36;1m\u001b[1;3mWe use the last quote at 5:00 PM as the close of that given day. Change is always the difference between the current price and the price at 5:00pm. For example: Gold last traded at $1,200 at 5:00 PM on January 17. If it is January 17 at 6:30 PM and the price is $1,202, we will show a change of +2.00. Live 24-hour Gold Price Spot Chart from New York, London, Hong Kong and Sydney. Gold Prices Updated Every Minute. ... Current Lease Rates. All Metals Gold (small) Gold (detailed) Silver (small) Silver (detailed) Platinum Palladium. Historical Gold Price Performance in USD. ... Drop us a line info@kitco.com. Gold Price in USA Today: per oz 2,032.71 United States dollars. Gold prices for the USA are denominated in American dollars (USD). Live Price of Gold provides daily updates on gold prices across various states in the United States of America. The most current gold price in United States dollar 24,22,18,14,10,6 carat Gold Spot Price & Charts. Our spot price chart accurately reports gold spot prices in real-time. Use the table to the right to discover the gold price today in ounces, grams, and kilograms. Identify trends by examining our historical spot price chart below, showing the price of gold in various time frames, including 24-hours, 3 days, 1 week, 1 ... The price of gold today, as of 8:17 am ET, was $2,037 per ounce. That's down 0.19% from yesterday's gold price of $2,040. Compared to last week, the price of gold is up 2.13%, and it's up 1. ...\u001b[0m\n",
            "Thought:\u001b[32;1m\u001b[1;3mThe current price of gold in the USA is $2,037 per ounce.\n",
            "Final Answer: The price of gold today in the USA is $2,037 per ounce.\u001b[0m\n",
            "\n",
            "\u001b[1m> Finished chain.\u001b[0m\n"
          ]
        },
        {
          "output_type": "execute_result",
          "data": {
            "text/plain": [
              "'The price of gold today in the USA is $2,037 per ounce.'"
            ],
            "application/vnd.google.colaboratory.intrinsic+json": {
              "type": "string"
            }
          },
          "metadata": {},
          "execution_count": 11
        }
      ]
    },
    {
      "cell_type": "markdown",
      "source": [
        "## task 2\n",
        "Create a program that can retrieve a YouTube video link and provide answers based on a search query."
      ],
      "metadata": {
        "id": "qoYPq6bKe3tk"
      }
    },
    {
      "cell_type": "code",
      "source": [
        "yt_search = YouTubeSearchTool()\n",
        "\n"
      ],
      "metadata": {
        "id": "zQb53wUGeD21"
      },
      "execution_count": 14,
      "outputs": []
    },
    {
      "cell_type": "code",
      "source": [
        "tools = [\n",
        "    Tool.from_function(\n",
        "        func=search.run,\n",
        "        name=\"Search web\",\n",
        "        description=\"You can use this tool when you need information about know\",\n",
        "    ),\n",
        "    Tool.from_function(\n",
        "        func= yt_search.run,\n",
        "        name=\"Search youtube\",\n",
        "        description=\"You can use this tool when you want to get a url of video from youtube\",\n",
        "    ),\n",
        "]\n"
      ],
      "metadata": {
        "id": "2oMWyJuSbwqS"
      },
      "execution_count": 18,
      "outputs": []
    },
    {
      "cell_type": "code",
      "source": [
        "\n",
        "prompt = hub.pull(\"hwchase17/react-chat\")\n",
        "\n",
        "prompt = prompt.partial(\n",
        "    tools=render_text_description(tools),\n",
        "    tool_names=\", \".join([t.name for t in tools]),\n",
        ")"
      ],
      "metadata": {
        "id": "J33kf736b5CZ"
      },
      "execution_count": 19,
      "outputs": []
    },
    {
      "cell_type": "code",
      "source": [
        "agent = initialize_agent(\n",
        "    tools, llm, agent=AgentType.ZERO_SHOT_REACT_DESCRIPTION, verbose=True\n",
        ")\n",
        "\n"
      ],
      "metadata": {
        "id": "V2FICmhbcZND"
      },
      "execution_count": 20,
      "outputs": []
    },
    {
      "cell_type": "code",
      "source": [
        "agent.invoke({\"input\": \"give me gta VI trailer link\"})[\"output\"]"
      ],
      "metadata": {
        "colab": {
          "base_uri": "https://localhost:8080/",
          "height": 316
        },
        "id": "VaBaA2VzcbEB",
        "outputId": "ee5980de-1e85-42a2-e49d-eced462b46b4"
      },
      "execution_count": 29,
      "outputs": [
        {
          "output_type": "stream",
          "name": "stdout",
          "text": [
            "\n",
            "\n",
            "\u001b[1m> Entering new AgentExecutor chain...\u001b[0m\n",
            "\u001b[32;1m\u001b[1;3mI need to find the trailer for GTA VI on YouTube.\n",
            "Action: Search youtube\n",
            "Action Input: \"GTA VI trailer\"\u001b[0m\n",
            "Observation: \u001b[33;1m\u001b[1;3m['https://www.youtube.com/watch?v=QdBZY2fkU-0&pp=ygUOR1RBIFZJIHRyYWlsZXI%3D', 'https://www.youtube.com/watch?v=bMq4OtZTigk&pp=ygUOR1RBIFZJIHRyYWlsZXI%3D']\u001b[0m\n",
            "Thought:\u001b[32;1m\u001b[1;3mThere are two possible links for the GTA VI trailer on YouTube.\n",
            "Action: Search youtube\n",
            "Action Input: \"GTA VI trailer official\"\u001b[0m\n",
            "Observation: \u001b[33;1m\u001b[1;3m['https://www.youtube.com/watch?v=QdBZY2fkU-0&pp=ygUXR1RBIFZJIHRyYWlsZXIgb2ZmaWNpYWw%3D', 'https://www.youtube.com/watch?v=NPLKtIkOirM&pp=ygUXR1RBIFZJIHRyYWlsZXIgb2ZmaWNpYWw%3D']\u001b[0m\n",
            "Thought:\u001b[32;1m\u001b[1;3mI have found the official trailer for GTA VI on YouTube.\n",
            "Final Answer: Here is the official trailer for GTA VI: https://www.youtube.com/watch?v=QdBZY2fkU-0\u001b[0m\n",
            "\n",
            "\u001b[1m> Finished chain.\u001b[0m\n"
          ]
        },
        {
          "output_type": "execute_result",
          "data": {
            "text/plain": [
              "'Here is the official trailer for GTA VI: https://www.youtube.com/watch?v=QdBZY2fkU-0'"
            ],
            "application/vnd.google.colaboratory.intrinsic+json": {
              "type": "string"
            }
          },
          "metadata": {},
          "execution_count": 29
        }
      ]
    },
    {
      "cell_type": "code",
      "source": [
        "agent.invoke({\"input\": \"Which currency has the highest value at the moment?\"})[\"output\"]"
      ],
      "metadata": {
        "colab": {
          "base_uri": "https://localhost:8080/",
          "height": 246
        },
        "id": "LpoA_VOwcr5_",
        "outputId": "4ee04b1b-7677-4b27-dda4-49bfbb51e7c9"
      },
      "execution_count": 30,
      "outputs": [
        {
          "output_type": "stream",
          "name": "stdout",
          "text": [
            "\n",
            "\n",
            "\u001b[1m> Entering new AgentExecutor chain...\u001b[0m\n",
            "\u001b[32;1m\u001b[1;3mI should search the web to find the current highest valued currency.\n",
            "Action: Search web\n",
            "Action Input: \"highest valued currency at the moment\"\u001b[0m\n",
            "Observation: \u001b[36;1m\u001b[1;3mHere are the top 10 strongest currencies: 1. Kuwaiti Dinar (KWD) The Kuwaiti dinar is the strongest currency in the world, with 1 dinar buying 3.26 dollars (or, put another way, $1 equals 0.31 ... The highest-valued currency in the world is the Kuwaiti Dinar (KWD). Since it was first introduced in 1960, the Kuwaiti dinar has consistently ranked as the world's most valuable currency. The Euro is the second-most traded currency in the world and the official currency for 19 European countries. While it was worth less than the US Dollar upon its introduction in 2000, it soon became more valuable and reached as high as $1.60 during the United States' economic crisis in 2008. 1 KWD = 2.98 EUR (Kuwaiti Dinar to Euro) Today, Kuwaiti Dinar is the highest-valued currency in the world, estimating at $3.25 per Dinar. Such a high value is explained by Kuwait's stable economy and significant oil exports into the global market, producing almost 95% of the country's revenue. Here's the top 10 strongest currencies: 1. Kuwaiti dinar (KWD) The Kuwaiti dinar is the strongest currency in the world with 1 Kuwaiti dinar buying 3.24 US dollars (or, put another way, US$1 ...\u001b[0m\n",
            "Thought:\u001b[32;1m\u001b[1;3mI now know the final answer\n",
            "Final Answer: The currency with the highest value at the moment is the Kuwaiti Dinar (KWD).\u001b[0m\n",
            "\n",
            "\u001b[1m> Finished chain.\u001b[0m\n"
          ]
        },
        {
          "output_type": "execute_result",
          "data": {
            "text/plain": [
              "'The currency with the highest value at the moment is the Kuwaiti Dinar (KWD).'"
            ],
            "application/vnd.google.colaboratory.intrinsic+json": {
              "type": "string"
            }
          },
          "metadata": {},
          "execution_count": 30
        }
      ]
    },
    {
      "cell_type": "markdown",
      "source": [
        "## on you\n",
        "Create a program that can answer questions based on information from [wikipedia](https://python.langchain.com/docs/integrations/tools/wikipedia)\n"
      ],
      "metadata": {
        "id": "dI3gTbwRfWEK"
      }
    },
    {
      "cell_type": "code",
      "source": [],
      "metadata": {
        "id": "ReEz0HQvdtGi"
      },
      "execution_count": null,
      "outputs": []
    }
  ]
}